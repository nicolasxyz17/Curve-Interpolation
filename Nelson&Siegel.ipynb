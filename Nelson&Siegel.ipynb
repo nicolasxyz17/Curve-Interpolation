{
 "cells": [
  {
   "cell_type": "markdown",
   "metadata": {},
   "source": [
    "### Library"
   ]
  },
  {
   "cell_type": "code",
   "execution_count": 1,
   "metadata": {
    "ExecuteTime": {
     "end_time": "2020-08-21T18:39:47.816975Z",
     "start_time": "2020-08-21T18:39:46.201899Z"
    }
   },
   "outputs": [],
   "source": [
    "import numpy as np\n",
    "import matplotlib.pyplot as plt\n",
    "from scipy.interpolate import UnivariateSpline"
   ]
  },
  {
   "cell_type": "markdown",
   "metadata": {},
   "source": [
    "#### Set Params"
   ]
  },
  {
   "cell_type": "code",
   "execution_count": 2,
   "metadata": {
    "ExecuteTime": {
     "end_time": "2020-08-21T18:39:55.769280Z",
     "start_time": "2020-08-21T18:39:55.760842Z"
    }
   },
   "outputs": [],
   "source": [
    "t = np.array([0.65,0.91,0.95,1.54,1.78,2.02,2.34,2.49,3.41,4.08,6.5,11.18])\n",
    "y = np.array([0.82,0.86,1.13,2.52,2.56,2.89,4.73,4.27,4.83,3.57,6.03,6.99])\n",
    "label = [\"T2X1\",\"TC21\",\"TX21\",\"TX22\",\"PR13\",\"T2X2\",\"TC23\",\"TX23\",\"TX24\",\"TC25P\",\"DICP\",\"PARP\"]"
   ]
  },
  {
   "cell_type": "markdown",
   "metadata": {},
   "source": [
    "#### Smoothing spline fit to a given set of data points"
   ]
  },
  {
   "cell_type": "code",
   "execution_count": 3,
   "metadata": {
    "ExecuteTime": {
     "end_time": "2020-08-21T18:40:07.231356Z",
     "start_time": "2020-08-21T18:40:07.225308Z"
    }
   },
   "outputs": [],
   "source": [
    "spl = UnivariateSpline(t,y)\n",
    "ts = np.linspace(np.min(t)-0.1,np.max(t)+0.1,100)"
   ]
  },
  {
   "cell_type": "markdown",
   "metadata": {},
   "source": [
    "### Nelson & Siegel"
   ]
  },
  {
   "cell_type": "code",
   "execution_count": 4,
   "metadata": {
    "ExecuteTime": {
     "end_time": "2020-08-21T18:40:12.404222Z",
     "start_time": "2020-08-21T18:40:11.980754Z"
    }
   },
   "outputs": [],
   "source": [
    "from nelson_siegel_svensson import NelsonSiegelSvenssonCurve\n",
    "from nelson_siegel_svensson.calibrate import calibrate_ns_ols"
   ]
  },
  {
   "cell_type": "markdown",
   "metadata": {},
   "source": [
    "#### Extract params given the yield and duration"
   ]
  },
  {
   "cell_type": "code",
   "execution_count": 5,
   "metadata": {
    "ExecuteTime": {
     "end_time": "2020-08-21T18:40:15.565893Z",
     "start_time": "2020-08-21T18:40:15.550752Z"
    }
   },
   "outputs": [
    {
     "name": "stdout",
     "output_type": "stream",
     "text": [
      "NelsonSiegelCurve(beta0=7.690912071567354, beta1=-9.191398665197006, beta2=-2.626582818798795e-06, tau=1.2240400800892117)\n"
     ]
    }
   ],
   "source": [
    "curve, status = calibrate_ns_ols(t,y,tau0=1.0)\n",
    "print(curve)"
   ]
  },
  {
   "cell_type": "markdown",
   "metadata": {},
   "source": [
    "#### Build the N&S curve using the params"
   ]
  },
  {
   "cell_type": "code",
   "execution_count": 6,
   "metadata": {
    "ExecuteTime": {
     "end_time": "2020-08-21T18:40:19.711587Z",
     "start_time": "2020-08-21T18:40:19.704747Z"
    }
   },
   "outputs": [],
   "source": [
    "y_ = NelsonSiegelSvenssonCurve(curve.beta0,curve.beta1,curve.beta2,0.0,curve.tau,0.0)"
   ]
  },
  {
   "cell_type": "markdown",
   "metadata": {},
   "source": [
    "### Plotting Results"
   ]
  },
  {
   "cell_type": "code",
   "execution_count": 7,
   "metadata": {
    "ExecuteTime": {
     "end_time": "2020-08-21T18:41:00.338293Z",
     "start_time": "2020-08-21T18:40:59.986842Z"
    }
   },
   "outputs": [
    {
     "name": "stderr",
     "output_type": "stream",
     "text": [
      "/Users/nicolastoledo/opt/anaconda3/lib/python3.7/site-packages/nelson_siegel_svensson/nss.py:43: RuntimeWarning: divide by zero encountered in true_divide\n",
      "  exp_tt2 = exp(-T/tau2)\n",
      "/Users/nicolastoledo/opt/anaconda3/lib/python3.7/site-packages/nelson_siegel_svensson/nss.py:46: RuntimeWarning: divide by zero encountered in true_divide\n",
      "  factor3 = (1 - exp_tt2) / (T / tau2) - exp_tt2\n"
     ]
    },
    {
     "data": {
      "text/plain": [
       "<matplotlib.legend.Legend at 0x7ff43c05d310>"
      ]
     },
     "execution_count": 7,
     "metadata": {},
     "output_type": "execute_result"
    },
    {
     "data": {
      "image/png": "[encoded data removed]",
      "text/plain": [
       "<Figure size 720x360 with 1 Axes>"
      ]
     },
     "metadata": {
      "needs_background": "light"
     },
     "output_type": "display_data"
    }
   ],
   "source": [
    "fig, ax = plt.subplots(figsize=(10,5))\n",
    "ax.plot(t,y,'ro',ms=3,label='CER Bonds')\n",
    "for i, txt in enumerate(label):\n",
    "    ax.annotate(txt, (t[i], y[i]))\n",
    "\n",
    "ax.plot(ts, spl(ts),'k',lw=1.5,label='Interpolation')\n",
    "ax.plot(ts, y_(ts),label='NelsonSiegel')\n",
    "ax.set_title('Curva CER')\n",
    "ax.set_xlabel('Duration')\n",
    "ax.set_ylabel('CER+Spread')\n",
    "ax.legend()\n",
    "\n"
   ]
  },
  {
   "cell_type": "code",
   "execution_count": null,
   "metadata": {},
   "outputs": [],
   "source": []
  },
  {
   "cell_type": "code",
   "execution_count": null,
   "metadata": {},
   "outputs": [],
   "source": []
  },
  {
   "cell_type": "code",
   "execution_count": null,
   "metadata": {},
   "outputs": [],
   "source": []
  }
 ],
 "metadata": {
  "kernelspec": {
   "display_name": "Python 3",
   "language": "python",
   "name": "python3"
  },
  "language_info": {
   "codemirror_mode": {
    "name": "ipython",
    "version": 3
   },
   "file_extension": ".py",
   "mimetype": "text/x-python",
   "name": "python",
   "nbconvert_exporter": "python",
   "pygments_lexer": "ipython3",
   "version": "3.7.6"
  },
  "varInspector": {
   "cols": {
    "lenName": 16,
    "lenType": 16,
    "lenVar": 40
   },
   "kernels_config": {
    "python": {
     "delete_cmd_postfix": "",
     "delete_cmd_prefix": "del ",
     "library": "var_list.py",
     "varRefreshCmd": "print(var_dic_list())"
    },
    "r": {
     "delete_cmd_postfix": ") ",
     "delete_cmd_prefix": "rm(",
     "library": "var_list.r",
     "varRefreshCmd": "cat(var_dic_list()) "
    }
   },
   "types_to_exclude": [
    "module",
    "function",
    "builtin_function_or_method",
    "instance",
    "_Feature"
   ],
   "window_display": false
  }
 },
 "nbformat": 4,
 "nbformat_minor": 4
}
